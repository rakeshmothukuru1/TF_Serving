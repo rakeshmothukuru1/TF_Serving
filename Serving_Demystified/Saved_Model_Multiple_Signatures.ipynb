{
 "cells": [
  {
   "cell_type": "markdown",
   "metadata": {},
   "source": [
    "# <span style=\"color:green\"> Below are the important steps for Building as many SignatureDefs as we want using SavedModelBuilder.Save: </span>"
   ]
  },
  {
   "cell_type": "markdown",
   "metadata": {},
   "source": [
    "export_dir = 'Saved_Model_Half_Plus_Two_Export/1' **Version is required**\n",
    "\n",
    "builder = tf.saved_model.builder.SavedModelBuilder(export_dir)\n",
    "\n",
    "predict_input_tensor = tf.compat.v1.saved_model.build_tensor_info(x)\n",
    "predict_signature_inputs = {\"x\": predict_input_tensor}\n",
    "\n",
    "predict_output_tensor = tf.compat.v1.saved_model.build_tensor_info(y)\n",
    "predict_signature_outputs = {\"y\": predict_output_tensor}\n",
    "predict_signature_def = (tf.saved_model.signature_def_utils.build_signature_def(\n",
    "         predict_signature_inputs, predict_signature_outputs,\n",
    "         tf.saved_model.signature_constants.PREDICT_METHOD_NAME))\n",
    "        \n",
    "signature_def_map = {\"regress_x_to_y\":_build_regression_signature(serialized_tf_example, y),\n",
    "                     \"regress_x_to_y2\":_build_regression_signature(serialized_tf_example, y2),\n",
    "                     \"regress_x2_to_y3\":_build_regression_signature(serialized_tf_example, y3),\n",
    "                     \"classify_x_to_y\":_build_classification_signature(serialized_tf_example, y),\n",
    "                    tf.saved_model.signature_constants.DEFAULT_SERVING_SIGNATURE_DEF_KEY: predict_signature_def}\n",
    " \n",
    "builder.save()\n",
    "#builder.save(as_text = True)"
   ]
  },
  {
   "cell_type": "code",
   "execution_count": 1,
   "metadata": {},
   "outputs": [],
   "source": [
    "from __future__ import absolute_import\n",
    "from __future__ import division\n",
    "from __future__ import print_function\n",
    "\n",
    "import argparse\n",
    "import os\n",
    "import sys\n",
    "\n",
    "# This is a placeholder for a Google-internal import.\n",
    "import tensorflow as tf\n",
    "\n",
    "from tensorflow.python.lib.io import file_io\n",
    "\n",
    "FLAGS = None"
   ]
  },
  {
   "cell_type": "code",
   "execution_count": 2,
   "metadata": {},
   "outputs": [],
   "source": [
    "export_dir = 'Saved_Model_Half_Plus_Two_Export/1'\n",
    "device_type=\"cpu\"\n",
    "use_main_op = True"
   ]
  },
  {
   "cell_type": "code",
   "execution_count": 3,
   "metadata": {},
   "outputs": [],
   "source": [
    "def _write_assets(assets_directory, assets_filename):\n",
    "  \"\"\"Writes asset files to be used with SavedModel for half plus two.\n",
    "\n",
    "  Args:\n",
    "    assets_directory: The directory to which the assets should be written.\n",
    "    assets_filename: Name of the file to which the asset contents should be\n",
    "        written.\n",
    "\n",
    "  Returns:\n",
    "    The path to which the assets file was written.\n",
    "  \"\"\"\n",
    "  if not file_io.file_exists(assets_directory):\n",
    "    file_io.recursive_create_dir(assets_directory)\n",
    "\n",
    "  path = os.path.join(tf.compat.as_bytes(assets_directory), tf.compat.as_bytes(assets_filename))\n",
    "  file_io.write_string_to_file(path, \"asset-file-contents\")\n",
    "  return path"
   ]
  },
  {
   "cell_type": "code",
   "execution_count": 4,
   "metadata": {},
   "outputs": [],
   "source": [
    "def _build_regression_signature(input_tensor, output_tensor):\n",
    "  \"\"\"Helper function for building a regression SignatureDef.\"\"\"\n",
    "  input_tensor_info = tf.compat.v1.saved_model.build_tensor_info(input_tensor)\n",
    "    \n",
    "  signature_inputs = {tf.saved_model.signature_constants.REGRESS_INPUTS: input_tensor_info}\n",
    "\n",
    "  output_tensor_info = tf.compat.v1.saved_model.build_tensor_info(output_tensor)\n",
    "    \n",
    "  signature_outputs = {tf.saved_model.signature_constants.REGRESS_OUTPUTS: output_tensor_info}\n",
    "\n",
    "  return tf.saved_model.signature_def_utils.build_signature_def(signature_inputs, signature_outputs,\n",
    "      tf.saved_model.signature_constants.REGRESS_METHOD_NAME)"
   ]
  },
  {
   "cell_type": "code",
   "execution_count": 5,
   "metadata": {},
   "outputs": [],
   "source": [
    "# Possibly extend this to allow passing in 'classes', but for now this is\n",
    "# sufficient for testing purposes.\n",
    "def _build_classification_signature(input_tensor, scores_tensor):\n",
    "  \"\"\"Helper function for building a classification SignatureDef.\"\"\"\n",
    "  input_tensor_info = tf.compat.v1.saved_model.build_tensor_info(input_tensor)\n",
    "  signature_inputs = {\n",
    "      tf.saved_model.signature_constants.CLASSIFY_INPUTS: input_tensor_info\n",
    "  }\n",
    "  output_tensor_info = tf.compat.v1.saved_model.build_tensor_info(scores_tensor)\n",
    "  signature_outputs = {\n",
    "      tf.saved_model.signature_constants.CLASSIFY_OUTPUT_SCORES:\n",
    "          output_tensor_info\n",
    "  }\n",
    "  return tf.saved_model.signature_def_utils.build_signature_def(\n",
    "      signature_inputs, signature_outputs,\n",
    "      tf.saved_model.signature_constants.CLASSIFY_METHOD_NAME)"
   ]
  },
  {
   "cell_type": "code",
   "execution_count": 6,
   "metadata": {},
   "outputs": [],
   "source": [
    "# This command will create the Folder which we mention as export_dir. If that is already present, we'll get Assertion Error\n",
    "builder = tf.saved_model.builder.SavedModelBuilder(export_dir)"
   ]
  },
  {
   "cell_type": "code",
   "execution_count": 7,
   "metadata": {},
   "outputs": [],
   "source": [
    "device_name = \"/cpu:0\"\n",
    "if device_type == \"gpu\":\n",
    "    device_name = \"/gpu:0\""
   ]
  },
  {
   "cell_type": "code",
   "execution_count": 8,
   "metadata": {},
   "outputs": [
    {
     "name": "stdout",
     "output_type": "stream",
     "text": [
      "WARNING:tensorflow:From /home/mothukuru/anaconda3/envs/PY_36/lib/python3.6/site-packages/tensorflow/python/framework/op_def_library.py:263: colocate_with (from tensorflow.python.framework.ops) is deprecated and will be removed in a future version.\n",
      "Instructions for updating:\n",
      "Colocations handled automatically by placer.\n",
      "WARNING:tensorflow:From <ipython-input-8-5711c1fbf43c>:56: build_tensor_info (from tensorflow.python.saved_model.utils_impl) is deprecated and will be removed in a future version.\n",
      "Instructions for updating:\n",
      "This function will only be available through the v1 compatibility library as tf.compat.v1.saved_model.utils.build_tensor_info or tf.compat.v1.saved_model.build_tensor_info.\n",
      "WARNING:tensorflow:From <ipython-input-8-5711c1fbf43c>:82: main_op (from tensorflow.python.saved_model.main_op_impl) is deprecated and will be removed in a future version.\n",
      "Instructions for updating:\n",
      "This function will only be available through the v1 compatibility library as tf.compat.v1.saved_model.main_op.main_op.\n",
      "INFO:tensorflow:Assets added to graph.\n",
      "INFO:tensorflow:Assets written to: Saved_Model_Half_Plus_Two_Export/1/assets\n",
      "INFO:tensorflow:SavedModel written to: Saved_Model_Half_Plus_Two_Export/1/saved_model.pbtxt\n"
     ]
    },
    {
     "data": {
      "text/plain": [
       "b'Saved_Model_Half_Plus_Two_Export/1/saved_model.pbtxt'"
      ]
     },
     "execution_count": 8,
     "metadata": {},
     "output_type": "execute_result"
    }
   ],
   "source": [
    "with tf.Session(graph=tf.Graph(),config=tf.ConfigProto(log_device_placement=True)) as sess:\n",
    "    with tf.device(device_name):\n",
    "      # Set up the model parameters as variables to exercise variable loading\n",
    "      # functionality upon restore.\n",
    "      a = tf.Variable(0.5, name=\"a\")\n",
    "      b = tf.Variable(2.0, name=\"b\")\n",
    "      c = tf.Variable(3.0, name=\"c\")\n",
    "\n",
    "      # Create a placeholder for serialized tensorflow.Example messages to be\n",
    "      # fed.\n",
    "      serialized_tf_example = tf.placeholder(tf.string, name=\"tf_example\")\n",
    "\n",
    "      # Parse the tensorflow.Example looking for a feature named \"x\" with a\n",
    "      # single floating point value.\n",
    "      feature_configs = {\n",
    "          \"x\": tf.FixedLenFeature([1], dtype=tf.float32),\n",
    "          \"x2\": tf.FixedLenFeature([1], dtype=tf.float32, default_value=[0.0])\n",
    "      }      # parse_example only works on CPU\n",
    "      with tf.device(\"/cpu:0\"):\n",
    "        tf_example = tf.parse_example(serialized_tf_example, feature_configs)\n",
    "      # Use tf.identity() to assign name\n",
    "      x = tf.identity(tf_example[\"x\"], name=\"x\")\n",
    "      y = tf.add(tf.multiply(a, x), b)\n",
    "\n",
    "      y = tf.identity(y, name=\"y\")\n",
    "\n",
    "      y2 = tf.add(tf.multiply(a, x), c)\n",
    "\n",
    "      y2 = tf.identity(y2, name=\"y2\")\n",
    "\n",
    "      x2 = tf.identity(tf_example[\"x2\"], name=\"x2\")\n",
    "\n",
    "      # Add separate constants for x2, to prevent optimizers like TF-TRT from\n",
    "      # fusing the paths to compute y/y2 and y3 together.\n",
    "      a2 = tf.Variable(0.5, name=\"a2\")\n",
    "      c2 = tf.Variable(3.0, name=\"c2\")\n",
    "      y3 = tf.add(tf.multiply(a2, x2), c2)\n",
    "\n",
    "      y3 = tf.identity(y3, name=\"y3\")\n",
    "     \n",
    "    # Create an assets file that can be saved and restored as part of the SavedModel.\n",
    "    original_assets_directory = \"Saved_Model_Half_Plus_Two_Export/assets\"\n",
    "    original_assets_filename = \"foo.txt\"\n",
    "    original_assets_filepath = _write_assets(original_assets_directory, original_assets_filename)\n",
    "    \n",
    "    # Set up the assets collection.\n",
    "    assets_filepath = tf.constant(original_assets_filepath)\n",
    "    tf.add_to_collection(tf.GraphKeys.ASSET_FILEPATHS, \n",
    "                         assets_filepath)\n",
    "    filename_tensor = tf.Variable(original_assets_filename,name=\"filename_tensor\",\n",
    "                                  trainable=False, \n",
    "                                  collections=[])\n",
    "    assign_filename_op = filename_tensor.assign(original_assets_filename)\n",
    "    \n",
    "    # Set up the signature for Predict with input and output tensor specification.\n",
    "    predict_input_tensor = tf.compat.v1.saved_model.build_tensor_info(x)\n",
    "    predict_signature_inputs = {\"x\": predict_input_tensor}\n",
    "\n",
    "    predict_output_tensor = tf.compat.v1.saved_model.build_tensor_info(y)\n",
    "    predict_signature_outputs = {\"y\": predict_output_tensor}\n",
    "    predict_signature_def = (\n",
    "        tf.saved_model.signature_def_utils.build_signature_def(\n",
    "            predict_signature_inputs, predict_signature_outputs,\n",
    "            tf.saved_model.signature_constants.PREDICT_METHOD_NAME))\n",
    "    \n",
    "    signature_def_map = {\n",
    "    \"regress_x_to_y\":_build_regression_signature(serialized_tf_example, y),\n",
    "    \"regress_x_to_y2\":_build_regression_signature(serialized_tf_example, y2),\n",
    "    \"regress_x2_to_y3\":_build_regression_signature(serialized_tf_example, y3),\n",
    "    \"classify_x_to_y\":_build_classification_signature(serialized_tf_example, y),\n",
    "    tf.saved_model.signature_constants.DEFAULT_SERVING_SIGNATURE_DEF_KEY:\n",
    "        predict_signature_def}\n",
    "    \n",
    "    # Initialize all variables and then save the SavedModel.\n",
    "    sess.run(tf.global_variables_initializer())\n",
    "    \n",
    "    if use_main_op:\n",
    "      builder.add_meta_graph_and_variables(\n",
    "          sess, [tf.saved_model.tag_constants.SERVING],\n",
    "          signature_def_map=signature_def_map,\n",
    "          assets_collection=tf.get_collection(tf.GraphKeys.ASSET_FILEPATHS),\n",
    "          main_op=tf.group(tf.saved_model.main_op.main_op(),\n",
    "                           assign_filename_op))\n",
    "    else:\n",
    "      builder.add_meta_graph_and_variables(\n",
    "          sess, [tf.saved_model.tag_constants.SERVING],\n",
    "          signature_def_map=signature_def_map,\n",
    "          assets_collection=tf.get_collection(tf.GraphKeys.ASSET_FILEPATHS),\n",
    "          main_op=tf.group(assign_filename_op))\n",
    "\n",
    "builder.save(as_text = True)"
   ]
  },
  {
   "cell_type": "code",
   "execution_count": 9,
   "metadata": {},
   "outputs": [
    {
     "name": "stdout",
     "output_type": "stream",
     "text": [
      "\n",
      "MetaGraphDef with tag-set: 'serve' contains the following SignatureDefs:\n",
      "\n",
      "signature_def['classify_x_to_y']:\n",
      "  The given SavedModel SignatureDef contains the following input(s):\n",
      "    inputs['inputs'] tensor_info:\n",
      "        dtype: DT_STRING\n",
      "        shape: unknown_rank\n",
      "        name: tf_example:0\n",
      "  The given SavedModel SignatureDef contains the following output(s):\n",
      "    outputs['scores'] tensor_info:\n",
      "        dtype: DT_FLOAT\n",
      "        shape: (-1, 1)\n",
      "        name: y:0\n",
      "  Method name is: tensorflow/serving/classify\n",
      "\n",
      "signature_def['regress_x2_to_y3']:\n",
      "  The given SavedModel SignatureDef contains the following input(s):\n",
      "    inputs['inputs'] tensor_info:\n",
      "        dtype: DT_STRING\n",
      "        shape: unknown_rank\n",
      "        name: tf_example:0\n",
      "  The given SavedModel SignatureDef contains the following output(s):\n",
      "    outputs['outputs'] tensor_info:\n",
      "        dtype: DT_FLOAT\n",
      "        shape: (-1, 1)\n",
      "        name: y3:0\n",
      "  Method name is: tensorflow/serving/regress\n",
      "\n",
      "signature_def['regress_x_to_y']:\n",
      "  The given SavedModel SignatureDef contains the following input(s):\n",
      "    inputs['inputs'] tensor_info:\n",
      "        dtype: DT_STRING\n",
      "        shape: unknown_rank\n",
      "        name: tf_example:0\n",
      "  The given SavedModel SignatureDef contains the following output(s):\n",
      "    outputs['outputs'] tensor_info:\n",
      "        dtype: DT_FLOAT\n",
      "        shape: (-1, 1)\n",
      "        name: y:0\n",
      "  Method name is: tensorflow/serving/regress\n",
      "\n",
      "signature_def['regress_x_to_y2']:\n",
      "  The given SavedModel SignatureDef contains the following input(s):\n",
      "    inputs['inputs'] tensor_info:\n",
      "        dtype: DT_STRING\n",
      "        shape: unknown_rank\n",
      "        name: tf_example:0\n",
      "  The given SavedModel SignatureDef contains the following output(s):\n",
      "    outputs['outputs'] tensor_info:\n",
      "        dtype: DT_FLOAT\n",
      "        shape: (-1, 1)\n",
      "        name: y2:0\n",
      "  Method name is: tensorflow/serving/regress\n",
      "\n",
      "signature_def['serving_default']:\n",
      "  The given SavedModel SignatureDef contains the following input(s):\n",
      "    inputs['x'] tensor_info:\n",
      "        dtype: DT_FLOAT\n",
      "        shape: (-1, 1)\n",
      "        name: x:0\n",
      "  The given SavedModel SignatureDef contains the following output(s):\n",
      "    outputs['y'] tensor_info:\n",
      "        dtype: DT_FLOAT\n",
      "        shape: (-1, 1)\n",
      "        name: y:0\n",
      "  Method name is: tensorflow/serving/predict\n"
     ]
    }
   ],
   "source": [
    "!saved_model_cli show --dir Saved_Model_Half_Plus_Two_Export/1 --all"
   ]
  },
  {
   "cell_type": "markdown",
   "metadata": {},
   "source": [
    "# Explain about Things to be Taken Care for different SignatureDefs"
   ]
  },
  {
   "cell_type": "markdown",
   "metadata": {},
   "source": [
    "sudo docker run -t --rm -p 8501:8501 -v \"/home/mothukuru/Serving_Made_Easy/Serving_Demystified/Saved_Model_Half_Plus_Two_Export:/models/Saved_Model_Half_Plus_Two_Export\" -e MODEL_NAME=Saved_Model_Half_Plus_Two_Export tensorflow/serving &"
   ]
  },
  {
   "cell_type": "markdown",
   "metadata": {},
   "source": [
    "curl -d '{\"instances\": [1.0, 2.0, 5.0]}' -X POST http://localhost:8501/v1/models/Saved_Model_Half_Plus_Two_Export:predict \n",
    "    \n",
    "{\n",
    "    \"predictions\": [2.5, 3.0, 4.5\n",
    "    ]\n",
    "}"
   ]
  },
  {
   "cell_type": "markdown",
   "metadata": {},
   "source": [
    "curl -d '{\"inputs\": [1.0, 2.0, 5.0]}' -X POST http://localhost:8501/v1/models/Saved_Model_Half_Plus_Two_Export:predict \n",
    "    \n",
    "{\n",
    "    \"outputs\": [\n",
    "        2.5,\n",
    "        3.0,\n",
    "        4.5\n",
    "    ]\n",
    "}"
   ]
  },
  {
   "cell_type": "markdown",
   "metadata": {},
   "source": [
    "curl -d '{\"signature_name\":\"serving_default\",\"instances\": [1.0, 2.0, 5.0]}' -X POST http://localhost:8501/v1/models/Saved_Model_Half_Plus_Two_Export:predict\n",
    "    \n",
    "{\n",
    "    \"predictions\": [2.5, 3.0, 4.5\n",
    "    ]\n",
    "}"
   ]
  },
  {
   "cell_type": "markdown",
   "metadata": {},
   "source": [
    "curl -d '{\"signature_name\":\"serving_default\",\"inputs\": [1.0, 2.0, 5.0]}' -X POST http://localhost:8501/v1/models/Saved_Model_Half_Plus_Two_Export:predict\n",
    "    \n",
    "{\n",
    "    \"outputs\": [\n",
    "        2.5,\n",
    "        3.0,\n",
    "        4.5\n",
    "    ]\n",
    "}"
   ]
  },
  {
   "cell_type": "markdown",
   "metadata": {},
   "source": [
    "curl -d '{\"signature_name\": \"classify_x_to_y\", \"examples\": [{\"x\": 1.0}, {\"x\": 2.0}]}' -X POST http://localhost:8501/v1/models/Saved_Model_Half_Plus_Two_Export:classify\n",
    "  \n",
    "{\n",
    "    \"results\": [[[\"\", 2.5]], [[\"\", 3.0]]\n",
    "    ]\n",
    "}"
   ]
  },
  {
   "cell_type": "markdown",
   "metadata": {},
   "source": [
    "curl -d '{\"signature_name\": \"regress_x_to_y\", \"examples\": [{\"x\": 1.0}, {\"x\": 2.0}]}' -X POST http://localhost:8501/v1/models/Saved_Model_Half_Plus_Two_Export:regress\n",
    "  \n",
    "{\n",
    "    \"results\": [2.5, 3.0]\n",
    "}"
   ]
  },
  {
   "cell_type": "markdown",
   "metadata": {},
   "source": [
    "curl -d '{\"signature_name\": \"regress_x_to_y2\", \"examples\": [{\"x\": 1.0}, {\"x\": 2.0}]}' -X POST http://localhost:8501/v1/models/Saved_Model_Half_Plus_Two_Export:regress\n",
    "            \n",
    "{\n",
    "    \"results\": [3.5, 4.0]\n",
    "}"
   ]
  },
  {
   "cell_type": "markdown",
   "metadata": {},
   "source": [
    "curl -d '{\"signature_name\": \"regress_x2_to_y3\", \"examples\": [{\"x\": 1.0}, {\"x\": 2.0}]}' -X POST http://localhost:8501/v1/models/Saved_Model_Half_Plus_Two_Export:regress\n",
    "\n",
    "{\n",
    "    \"results\": [3.0, 3.0]\n",
    "}"
   ]
  },
  {
   "cell_type": "code",
   "execution_count": null,
   "metadata": {},
   "outputs": [],
   "source": []
  }
 ],
 "metadata": {
  "accelerator": "GPU",
  "colab": {
   "collapsed_sections": [],
   "name": "rest_simple.ipynb",
   "provenance": [],
   "toc_visible": true,
   "version": "0.3.2"
  },
  "kernelspec": {
   "display_name": "Python 3",
   "language": "python",
   "name": "python3"
  },
  "language_info": {
   "codemirror_mode": {
    "name": "ipython",
    "version": 3
   },
   "file_extension": ".py",
   "mimetype": "text/x-python",
   "name": "python",
   "nbconvert_exporter": "python",
   "pygments_lexer": "ipython3",
   "version": "3.6.8"
  }
 },
 "nbformat": 4,
 "nbformat_minor": 1
}
