{
 "cells": [
  {
   "cell_type": "markdown",
   "metadata": {},
   "source": [
    "# <span style=\"color:green\"> Below are the important steps in Exporting the Saved Model using Estimator and build_parsing_serving_input_receiver_fn:</span> "
   ]
  },
  {
   "cell_type": "markdown",
   "metadata": {},
   "source": [
    "## classifier = tf.estimator.DNNClassifier(feature_columns=my_feature_columns,    \n",
    "##                                        hidden_units=[10, 10],  # Two hidden layers of 10 nodes each.\n",
    "##                                            n_classes=3)\n",
    "\n",
    "## feature_spec = tf.feature_column.make_parse_example_spec(my_feature_columns)\n",
    "## serving_input_receiver_fn = tf.estimator.export.build_parsing_serving_input_receiver_fn(feature_spec)\n",
    "\n",
    "## Export_Dir = 'Premade_Estimator_Export' #No need of Version Number\n",
    "\n",
    "## Final_Export_Dir = classifier.export_savedmodel(Export_Dir, serving_input_receiver_fn)\n",
    "\n",
    "## Final_Export_Dir = Export_Dir + Folder Created by Current TimeStamp"
   ]
  },
  {
   "cell_type": "code",
   "execution_count": 1,
   "metadata": {},
   "outputs": [],
   "source": [
    "import tensorflow as tf\n",
    "import pandas as pd\n",
    "import numpy as np\n",
    "import argparse\n",
    "import iris_data"
   ]
  },
  {
   "cell_type": "code",
   "execution_count": 2,
   "metadata": {},
   "outputs": [],
   "source": [
    "BATCH_SIZE = 100\n",
    "STEPS = 1000\n",
    "Export_Dir = 'Premade_Estimator_Export' #No need of Version Number"
   ]
  },
  {
   "cell_type": "code",
   "execution_count": 3,
   "metadata": {},
   "outputs": [],
   "source": [
    "(train_x, train_y), (test_x, test_y) = iris_data.load_data()\n",
    "\n",
    "# Feature columns describe how to use the input.\n",
    "my_feature_columns = []\n",
    "for key in train_x.keys():\n",
    "    my_feature_columns.append(tf.feature_column.numeric_column(key=key))"
   ]
  },
  {
   "cell_type": "code",
   "execution_count": 4,
   "metadata": {},
   "outputs": [
    {
     "name": "stderr",
     "output_type": "stream",
     "text": [
      "WARNING: Logging before flag parsing goes to stderr.\n",
      "W0814 19:06:38.758629 140127005255488 estimator.py:1811] Using temporary folder as model directory: /tmp/tmp7m7t1q5q\n"
     ]
    }
   ],
   "source": [
    "# Build a DNN with 2 hidden layers and 10 nodes in each hidden layer.\n",
    "classifier = tf.estimator.DNNClassifier(feature_columns=my_feature_columns,    \n",
    "                                        hidden_units=[10, 10],  # Two hidden layers of 10 nodes each.\n",
    "                                            n_classes=3) # The model must choose between 3 classes.    "
   ]
  },
  {
   "cell_type": "code",
   "execution_count": 5,
   "metadata": {},
   "outputs": [
    {
     "name": "stderr",
     "output_type": "stream",
     "text": [
      "W0814 19:06:38.776670 140127005255488 deprecation.py:323] From /usr/local/google/home/mothukuru/anaconda3/envs/TF_PY_36/lib/python3.6/site-packages/tensorflow/python/training/training_util.py:236: Variable.initialized_value (from tensorflow.python.ops.variables) is deprecated and will be removed in a future version.\n",
      "Instructions for updating:\n",
      "Use Variable.read_value. Variables in 2.X are initialized automatically both in eager and graph (inside tf.defun) contexts.\n",
      "W0814 19:06:38.804061 140127005255488 deprecation.py:506] From /usr/local/google/home/mothukuru/anaconda3/envs/TF_PY_36/lib/python3.6/site-packages/tensorflow/python/ops/init_ops.py:1251: calling VarianceScaling.__init__ (from tensorflow.python.ops.init_ops) with dtype is deprecated and will be removed in a future version.\n",
      "Instructions for updating:\n",
      "Call initializer instance with the dtype argument instead of passing it to the constructor\n",
      "W0814 19:06:39.450907 140127005255488 deprecation.py:323] From /usr/local/google/home/mothukuru/anaconda3/envs/TF_PY_36/lib/python3.6/site-packages/tensorflow_estimator/python/estimator/canned/head.py:437: to_float (from tensorflow.python.ops.math_ops) is deprecated and will be removed in a future version.\n",
      "Instructions for updating:\n",
      "Use `tf.cast` instead.\n",
      "W0814 19:06:39.540004 140127005255488 deprecation.py:506] From /usr/local/google/home/mothukuru/anaconda3/envs/TF_PY_36/lib/python3.6/site-packages/tensorflow/python/training/adagrad.py:76: calling Constant.__init__ (from tensorflow.python.ops.init_ops) with dtype is deprecated and will be removed in a future version.\n",
      "Instructions for updating:\n",
      "Call initializer instance with the dtype argument instead of passing it to the constructor\n",
      "W0814 19:06:39.623411 140127005255488 deprecation.py:323] From /usr/local/google/home/mothukuru/anaconda3/envs/TF_PY_36/lib/python3.6/site-packages/tensorflow/python/ops/array_ops.py:1354: add_dispatch_support.<locals>.wrapper (from tensorflow.python.ops.array_ops) is deprecated and will be removed in a future version.\n",
      "Instructions for updating:\n",
      "Use tf.where in 2.0, which has the same broadcast rule as np.where\n"
     ]
    },
    {
     "data": {
      "text/plain": [
       "<tensorflow_estimator.python.estimator.canned.dnn.DNNClassifier at 0x7f71905ba320>"
      ]
     },
     "execution_count": 5,
     "metadata": {},
     "output_type": "execute_result"
    }
   ],
   "source": [
    "# Train the Model.\n",
    "classifier.train(input_fn=lambda:iris_data.train_input_fn(train_x, train_y, BATCH_SIZE),steps=STEPS)"
   ]
  },
  {
   "cell_type": "code",
   "execution_count": 6,
   "metadata": {},
   "outputs": [
    {
     "name": "stderr",
     "output_type": "stream",
     "text": [
      "W0814 19:06:41.260846 140127005255488 deprecation.py:323] From /usr/local/google/home/mothukuru/anaconda3/envs/TF_PY_36/lib/python3.6/site-packages/tensorflow/python/training/saver.py:1276: checkpoint_exists (from tensorflow.python.training.checkpoint_management) is deprecated and will be removed in a future version.\n",
      "Instructions for updating:\n",
      "Use standard file APIs to check for files with this prefix.\n"
     ]
    },
    {
     "name": "stdout",
     "output_type": "stream",
     "text": [
      "\n",
      "Test set accuracy: 0.967\n",
      "\n"
     ]
    }
   ],
   "source": [
    "eval_result = classifier.evaluate(input_fn=lambda:iris_data.eval_input_fn(test_x, test_y, BATCH_SIZE))\n",
    "\n",
    "print('\\nTest set accuracy: {accuracy:0.3f}\\n'.format(**eval_result))"
   ]
  },
  {
   "cell_type": "code",
   "execution_count": 7,
   "metadata": {},
   "outputs": [],
   "source": [
    "# Generate predictions from the model\n",
    "expected = ['Setosa', 'Versicolor', 'Virginica']\n",
    "predict_x = {\n",
    "    'SepalLength': [5.1, 5.9, 6.9],\n",
    "    'SepalWidth': [3.3, 3.0, 3.1],\n",
    "    'PetalLength': [1.7, 4.2, 5.4],\n",
    "    'PetalWidth': [0.5, 1.5, 2.1],\n",
    "}\n",
    "\n",
    "predictions = classifier.predict(input_fn=lambda:iris_data.eval_input_fn(features = predict_x, labels = None, \n",
    "                                            batch_size=BATCH_SIZE))"
   ]
  },
  {
   "cell_type": "code",
   "execution_count": 8,
   "metadata": {},
   "outputs": [
    {
     "name": "stdout",
     "output_type": "stream",
     "text": [
      "\n",
      "Prediction is \"Setosa\" (99.9%), expected \"Setosa\"\n",
      "\n",
      "Prediction is \"Versicolor\" (99.7%), expected \"Versicolor\"\n",
      "\n",
      "Prediction is \"Virginica\" (97.5%), expected \"Virginica\"\n"
     ]
    }
   ],
   "source": [
    "template = ('\\nPrediction is \"{}\" ({:.1f}%), expected \"{}\"')\n",
    "\n",
    "for pred_dict, expec in zip(predictions, expected):\n",
    "    class_id = pred_dict['class_ids'][0]\n",
    "    probability = pred_dict['probabilities'][class_id]\n",
    "\n",
    "    print(template.format(iris_data.SPECIES[class_id],100 * probability, expec))"
   ]
  },
  {
   "cell_type": "markdown",
   "metadata": {},
   "source": [
    "### Saving the Model for Serving"
   ]
  },
  {
   "cell_type": "code",
   "execution_count": 9,
   "metadata": {},
   "outputs": [
    {
     "name": "stderr",
     "output_type": "stream",
     "text": [
      "W0814 19:06:41.769943 140127005255488 deprecation.py:323] From /usr/local/google/home/mothukuru/anaconda3/envs/TF_PY_36/lib/python3.6/site-packages/tensorflow/python/feature_column/feature_column.py:806: NumericColumn._parse_example_spec (from tensorflow.python.feature_column.feature_column_v2) is deprecated and will be removed in a future version.\n",
      "Instructions for updating:\n",
      "The old _FeatureColumn APIs are being deprecated. Please use the new FeatureColumn APIs instead.\n"
     ]
    },
    {
     "name": "stdout",
     "output_type": "stream",
     "text": [
      "{'SepalLength': FixedLenFeature(shape=(1,), dtype=tf.float32, default_value=None), 'SepalWidth': FixedLenFeature(shape=(1,), dtype=tf.float32, default_value=None), 'PetalLength': FixedLenFeature(shape=(1,), dtype=tf.float32, default_value=None), 'PetalWidth': FixedLenFeature(shape=(1,), dtype=tf.float32, default_value=None)}\n"
     ]
    }
   ],
   "source": [
    "feature_spec = tf.feature_column.make_parse_example_spec(my_feature_columns)\n",
    "print(feature_spec)"
   ]
  },
  {
   "cell_type": "code",
   "execution_count": 10,
   "metadata": {},
   "outputs": [
    {
     "name": "stderr",
     "output_type": "stream",
     "text": [
      "W0814 19:06:41.775899 140127005255488 deprecation.py:323] From <ipython-input-10-924d12de5068>:2: Estimator.export_savedmodel (from tensorflow_estimator.python.estimator.estimator) is deprecated and will be removed in a future version.\n",
      "Instructions for updating:\n",
      "This function has been renamed, use `export_saved_model` instead.\n",
      "W0814 19:06:41.905965 140127005255488 deprecation.py:323] From /usr/local/google/home/mothukuru/anaconda3/envs/TF_PY_36/lib/python3.6/site-packages/tensorflow/python/saved_model/signature_def_utils_impl.py:145: build_tensor_info (from tensorflow.python.saved_model.utils_impl) is deprecated and will be removed in a future version.\n",
      "Instructions for updating:\n",
      "This function will only be available through the v1 compatibility library as tf.compat.v1.saved_model.utils.build_tensor_info or tf.compat.v1.saved_model.build_tensor_info.\n"
     ]
    },
    {
     "name": "stdout",
     "output_type": "stream",
     "text": [
      "Exported to b'Premade_Estimator_Export/1565789801'\n"
     ]
    }
   ],
   "source": [
    "serving_input_receiver_fn = tf.estimator.export.build_parsing_serving_input_receiver_fn(feature_spec)\n",
    "export_dir = classifier.export_savedmodel(Export_Dir, serving_input_receiver_fn)\n",
    "print('Exported to {}'.format(export_dir))"
   ]
  },
  {
   "cell_type": "markdown",
   "metadata": {},
   "source": [
    "# Model is stored in /usr/local/google/home/mothukuru/Jupyter_Notebooks/export"
   ]
  },
  {
   "cell_type": "code",
   "execution_count": 11,
   "metadata": {},
   "outputs": [],
   "source": [
    "#print(serving_input_receiver_fn.func_globals)"
   ]
  },
  {
   "cell_type": "code",
   "execution_count": 12,
   "metadata": {},
   "outputs": [
    {
     "name": "stdout",
     "output_type": "stream",
     "text": [
      "Premade_Estimator_Export/1562576539:\r\n",
      "saved_model.pb\tvariables\r\n",
      "\r\n",
      "Premade_Estimator_Export/1562576539/variables:\r\n",
      "variables.data-00000-of-00002  variables.data-00001-of-00002  variables.index\r\n"
     ]
    }
   ],
   "source": [
    "!ls -R Premade_Estimator_Export/1562576539"
   ]
  },
  {
   "cell_type": "code",
   "execution_count": 13,
   "metadata": {},
   "outputs": [
    {
     "name": "stdout",
     "output_type": "stream",
     "text": [
      "\n",
      "MetaGraphDef with tag-set: 'serve' contains the following SignatureDefs:\n",
      "\n",
      "signature_def['classification']:\n",
      "  The given SavedModel SignatureDef contains the following input(s):\n",
      "    inputs['inputs'] tensor_info:\n",
      "        dtype: DT_STRING\n",
      "        shape: (-1)\n",
      "        name: input_example_tensor:0\n",
      "  The given SavedModel SignatureDef contains the following output(s):\n",
      "    outputs['classes'] tensor_info:\n",
      "        dtype: DT_STRING\n",
      "        shape: (-1, 3)\n",
      "        name: dnn/head/Tile:0\n",
      "    outputs['scores'] tensor_info:\n",
      "        dtype: DT_FLOAT\n",
      "        shape: (-1, 3)\n",
      "        name: dnn/head/predictions/probabilities:0\n",
      "  Method name is: tensorflow/serving/classify\n",
      "\n",
      "signature_def['predict']:\n",
      "  The given SavedModel SignatureDef contains the following input(s):\n",
      "    inputs['examples'] tensor_info:\n",
      "        dtype: DT_STRING\n",
      "        shape: (-1)\n",
      "        name: input_example_tensor:0\n",
      "  The given SavedModel SignatureDef contains the following output(s):\n",
      "    outputs['all_class_ids'] tensor_info:\n",
      "        dtype: DT_INT32\n",
      "        shape: (-1, 3)\n",
      "        name: dnn/head/predictions/Tile:0\n",
      "    outputs['all_classes'] tensor_info:\n",
      "        dtype: DT_STRING\n",
      "        shape: (-1, 3)\n",
      "        name: dnn/head/predictions/Tile_1:0\n",
      "    outputs['class_ids'] tensor_info:\n",
      "        dtype: DT_INT64\n",
      "        shape: (-1, 1)\n",
      "        name: dnn/head/predictions/ExpandDims_2:0\n",
      "    outputs['classes'] tensor_info:\n",
      "        dtype: DT_STRING\n",
      "        shape: (-1, 1)\n",
      "        name: dnn/head/predictions/str_classes:0\n",
      "    outputs['logits'] tensor_info:\n",
      "        dtype: DT_FLOAT\n",
      "        shape: (-1, 3)\n",
      "        name: dnn/logits/BiasAdd:0\n",
      "    outputs['probabilities'] tensor_info:\n",
      "        dtype: DT_FLOAT\n",
      "        shape: (-1, 3)\n",
      "        name: dnn/head/predictions/probabilities:0\n",
      "  Method name is: tensorflow/serving/predict\n",
      "\n",
      "signature_def['serving_default']:\n",
      "  The given SavedModel SignatureDef contains the following input(s):\n",
      "    inputs['inputs'] tensor_info:\n",
      "        dtype: DT_STRING\n",
      "        shape: (-1)\n",
      "        name: input_example_tensor:0\n",
      "  The given SavedModel SignatureDef contains the following output(s):\n",
      "    outputs['classes'] tensor_info:\n",
      "        dtype: DT_STRING\n",
      "        shape: (-1, 3)\n",
      "        name: dnn/head/Tile:0\n",
      "    outputs['scores'] tensor_info:\n",
      "        dtype: DT_FLOAT\n",
      "        shape: (-1, 3)\n",
      "        name: dnn/head/predictions/probabilities:0\n",
      "  Method name is: tensorflow/serving/classify\n"
     ]
    }
   ],
   "source": [
    "!saved_model_cli show --dir Premade_Estimator_Export/1562576539 --all"
   ]
  },
  {
   "cell_type": "code",
   "execution_count": 14,
   "metadata": {},
   "outputs": [
    {
     "name": "stdout",
     "output_type": "stream",
     "text": [
      "Traceback (most recent call last):\n",
      "  File \"/usr/local/google/home/mothukuru/anaconda3/envs/TF_PY_36/bin/saved_model_cli\", line 10, in <module>\n",
      "    sys.exit(main())\n",
      "  File \"/usr/local/google/home/mothukuru/anaconda3/envs/TF_PY_36/lib/python3.6/site-packages/tensorflow/python/tools/saved_model_cli.py\", line 909, in main\n",
      "    args.func(args)\n",
      "  File \"/usr/local/google/home/mothukuru/anaconda3/envs/TF_PY_36/lib/python3.6/site-packages/tensorflow/python/tools/saved_model_cli.py\", line 621, in show\n",
      "    _show_inputs_outputs(args.dir, args.tag_set, args.signature_def)\n",
      "  File \"/usr/local/google/home/mothukuru/anaconda3/envs/TF_PY_36/lib/python3.6/site-packages/tensorflow/python/tools/saved_model_cli.py\", line 133, in _show_inputs_outputs\n",
      "    tag_set)\n",
      "  File \"/usr/local/google/home/mothukuru/anaconda3/envs/TF_PY_36/lib/python3.6/site-packages/tensorflow/python/tools/saved_model_utils.py\", line 113, in get_meta_graph_def\n",
      "    saved_model = read_saved_model(saved_model_dir)\n",
      "  File \"/usr/local/google/home/mothukuru/anaconda3/envs/TF_PY_36/lib/python3.6/site-packages/tensorflow/python/tools/saved_model_utils.py\", line 55, in read_saved_model\n",
      "    raise IOError(\"SavedModel file does not exist at: %s\" % saved_model_dir)\n",
      "OSError: SavedModel file does not exist at: Premade_Estimator_Export/1562083639\n"
     ]
    }
   ],
   "source": [
    "!saved_model_cli show --dir Premade_Estimator_Export/1562083639 \\\n",
    "  --tag_set serve --signature_def serving_default"
   ]
  },
  {
   "cell_type": "code",
   "execution_count": 15,
   "metadata": {},
   "outputs": [
    {
     "name": "stdout",
     "output_type": "stream",
     "text": [
      "Traceback (most recent call last):\r\n",
      "  File \"/usr/local/google/home/mothukuru/anaconda3/envs/TF_PY_36/bin/saved_model_cli\", line 10, in <module>\r\n",
      "    sys.exit(main())\r\n",
      "  File \"/usr/local/google/home/mothukuru/anaconda3/envs/TF_PY_36/lib/python3.6/site-packages/tensorflow/python/tools/saved_model_cli.py\", line 909, in main\r\n",
      "    args.func(args)\r\n",
      "  File \"/usr/local/google/home/mothukuru/anaconda3/envs/TF_PY_36/lib/python3.6/site-packages/tensorflow/python/tools/saved_model_cli.py\", line 621, in show\r\n",
      "    _show_inputs_outputs(args.dir, args.tag_set, args.signature_def)\r\n",
      "  File \"/usr/local/google/home/mothukuru/anaconda3/envs/TF_PY_36/lib/python3.6/site-packages/tensorflow/python/tools/saved_model_cli.py\", line 133, in _show_inputs_outputs\r\n",
      "    tag_set)\r\n",
      "  File \"/usr/local/google/home/mothukuru/anaconda3/envs/TF_PY_36/lib/python3.6/site-packages/tensorflow/python/tools/saved_model_utils.py\", line 113, in get_meta_graph_def\r\n",
      "    saved_model = read_saved_model(saved_model_dir)\r\n",
      "  File \"/usr/local/google/home/mothukuru/anaconda3/envs/TF_PY_36/lib/python3.6/site-packages/tensorflow/python/tools/saved_model_utils.py\", line 55, in read_saved_model\r\n",
      "    raise IOError(\"SavedModel file does not exist at: %s\" % saved_model_dir)\r\n",
      "OSError: SavedModel file does not exist at: Premade_Estimator_Export/1562083639\r\n"
     ]
    }
   ],
   "source": [
    "!saved_model_cli show --dir Premade_Estimator_Export/1562083639 \\\n",
    "  --tag_set serve --signature_def classification"
   ]
  },
  {
   "cell_type": "code",
   "execution_count": 16,
   "metadata": {},
   "outputs": [
    {
     "name": "stdout",
     "output_type": "stream",
     "text": [
      "Traceback (most recent call last):\r\n",
      "  File \"/usr/local/google/home/mothukuru/anaconda3/envs/TF_PY_36/bin/saved_model_cli\", line 10, in <module>\r\n",
      "    sys.exit(main())\r\n",
      "  File \"/usr/local/google/home/mothukuru/anaconda3/envs/TF_PY_36/lib/python3.6/site-packages/tensorflow/python/tools/saved_model_cli.py\", line 909, in main\r\n",
      "    args.func(args)\r\n",
      "  File \"/usr/local/google/home/mothukuru/anaconda3/envs/TF_PY_36/lib/python3.6/site-packages/tensorflow/python/tools/saved_model_cli.py\", line 621, in show\r\n",
      "    _show_inputs_outputs(args.dir, args.tag_set, args.signature_def)\r\n",
      "  File \"/usr/local/google/home/mothukuru/anaconda3/envs/TF_PY_36/lib/python3.6/site-packages/tensorflow/python/tools/saved_model_cli.py\", line 133, in _show_inputs_outputs\r\n",
      "    tag_set)\r\n",
      "  File \"/usr/local/google/home/mothukuru/anaconda3/envs/TF_PY_36/lib/python3.6/site-packages/tensorflow/python/tools/saved_model_utils.py\", line 113, in get_meta_graph_def\r\n",
      "    saved_model = read_saved_model(saved_model_dir)\r\n",
      "  File \"/usr/local/google/home/mothukuru/anaconda3/envs/TF_PY_36/lib/python3.6/site-packages/tensorflow/python/tools/saved_model_utils.py\", line 55, in read_saved_model\r\n",
      "    raise IOError(\"SavedModel file does not exist at: %s\" % saved_model_dir)\r\n",
      "OSError: SavedModel file does not exist at: Premade_Estimator_Export/1562083639\r\n"
     ]
    }
   ],
   "source": [
    "!saved_model_cli show --dir Premade_Estimator_Export/1562083639 \\\n",
    "  --tag_set serve --signature_def predict"
   ]
  },
  {
   "cell_type": "markdown",
   "metadata": {},
   "source": [
    "### Execute the below commands in Terminal"
   ]
  },
  {
   "cell_type": "markdown",
   "metadata": {},
   "source": [
    "sudo docker pull tensorflow/serving"
   ]
  },
  {
   "cell_type": "markdown",
   "metadata": {},
   "source": [
    "sudo docker run -p 8501:8501 --mount type=bind,source=/usr/local/google/home/mothukuru/Jupyter_Notebooks/TF_Serving/Serving_Made_Easy/Serving_Demystified/Premade_Estimator_Export,target=/models/Premade_Estimator_Export -e MODEL_NAME=Premade_Estimator_Export -t tensorflow/serving &"
   ]
  },
  {
   "cell_type": "markdown",
   "metadata": {},
   "source": [
    "### Working Inference Command"
   ]
  },
  {
   "cell_type": "markdown",
   "metadata": {},
   "source": [
    "curl -d '{\"examples\":[{\"SepalLength\":[5.1],\"SepalWidth\":[3.3],\"PetalLength\":[1.7],\"PetalWidth\":[0.5]}]}' -X POST http://localhost:8501/v1/models/Premade_Estimator_Export:classify\n",
    "\n",
    "**Output:**\n",
    "\n",
    "{\"results\": [[[\"0\", 0.998636663], [\"1\", 0.00136337487], [\"2\", 1.95144964e-12]]]}"
   ]
  },
  {
   "cell_type": "markdown",
   "metadata": {},
   "source": [
    "### Non-working Inference Commands"
   ]
  },
  {
   "cell_type": "markdown",
   "metadata": {},
   "source": [
    "curl -d '{\"inputs\": [5.1,3.3,1.7,0.5]}' \\\n",
    "  -X POST http://localhost:8501/v1/models/Premade_Estimator_Export:predict"
   ]
  },
  {
   "cell_type": "markdown",
   "metadata": {},
   "source": [
    "### Explain the error with DT_STRING Type of Predict Input"
   ]
  },
  {
   "cell_type": "markdown",
   "metadata": {},
   "source": [
    "## Go through the below link which comprises KEDB document for different kinds of errors which occured during Inference using REST\n",
    "\n",
    "## https://docs.google.com/spreadsheets/d/1_uZxA2Zp6QD8_46CzXAZXCXVLuiYxybDUGnu72dO58o/edit#gid=1827007920"
   ]
  }
 ],
 "metadata": {
  "accelerator": "GPU",
  "colab": {
   "collapsed_sections": [],
   "name": "rest_simple.ipynb",
   "provenance": [],
   "toc_visible": true,
   "version": "0.3.2"
  },
  "kernelspec": {
   "display_name": "Python 3",
   "language": "python",
   "name": "python3"
  },
  "language_info": {
   "codemirror_mode": {
    "name": "ipython",
    "version": 3
   },
   "file_extension": ".py",
   "mimetype": "text/x-python",
   "name": "python",
   "nbconvert_exporter": "python",
   "pygments_lexer": "ipython3",
   "version": "3.7.4"
  }
 },
 "nbformat": 4,
 "nbformat_minor": 1
}
